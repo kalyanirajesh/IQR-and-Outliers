{
 "cells": [
  {
   "cell_type": "code",
   "execution_count": 1,
   "id": "03ba2729",
   "metadata": {},
   "outputs": [
    {
     "data": {
      "text/html": [
       "<div>\n",
       "<style scoped>\n",
       "    .dataframe tbody tr th:only-of-type {\n",
       "        vertical-align: middle;\n",
       "    }\n",
       "\n",
       "    .dataframe tbody tr th {\n",
       "        vertical-align: top;\n",
       "    }\n",
       "\n",
       "    .dataframe thead th {\n",
       "        text-align: right;\n",
       "    }\n",
       "</style>\n",
       "<table border=\"1\" class=\"dataframe\">\n",
       "  <thead>\n",
       "    <tr style=\"text-align: right;\">\n",
       "      <th></th>\n",
       "      <th>Index</th>\n",
       "      <th>Height</th>\n",
       "      <th>Weight</th>\n",
       "    </tr>\n",
       "  </thead>\n",
       "  <tbody>\n",
       "    <tr>\n",
       "      <th>count</th>\n",
       "      <td>25000.000000</td>\n",
       "      <td>25000.000000</td>\n",
       "      <td>25000.000000</td>\n",
       "    </tr>\n",
       "    <tr>\n",
       "      <th>mean</th>\n",
       "      <td>12500.500000</td>\n",
       "      <td>67.993114</td>\n",
       "      <td>127.079421</td>\n",
       "    </tr>\n",
       "    <tr>\n",
       "      <th>std</th>\n",
       "      <td>7217.022701</td>\n",
       "      <td>1.901679</td>\n",
       "      <td>11.660898</td>\n",
       "    </tr>\n",
       "    <tr>\n",
       "      <th>min</th>\n",
       "      <td>1.000000</td>\n",
       "      <td>60.278360</td>\n",
       "      <td>78.014760</td>\n",
       "    </tr>\n",
       "    <tr>\n",
       "      <th>25%</th>\n",
       "      <td>6250.750000</td>\n",
       "      <td>66.704397</td>\n",
       "      <td>119.308675</td>\n",
       "    </tr>\n",
       "    <tr>\n",
       "      <th>50%</th>\n",
       "      <td>12500.500000</td>\n",
       "      <td>67.995700</td>\n",
       "      <td>127.157750</td>\n",
       "    </tr>\n",
       "    <tr>\n",
       "      <th>75%</th>\n",
       "      <td>18750.250000</td>\n",
       "      <td>69.272958</td>\n",
       "      <td>134.892850</td>\n",
       "    </tr>\n",
       "    <tr>\n",
       "      <th>max</th>\n",
       "      <td>25000.000000</td>\n",
       "      <td>75.152800</td>\n",
       "      <td>170.924000</td>\n",
       "    </tr>\n",
       "  </tbody>\n",
       "</table>\n",
       "</div>"
      ],
      "text/plain": [
       "              Index        Height        Weight\n",
       "count  25000.000000  25000.000000  25000.000000\n",
       "mean   12500.500000     67.993114    127.079421\n",
       "std     7217.022701      1.901679     11.660898\n",
       "min        1.000000     60.278360     78.014760\n",
       "25%     6250.750000     66.704397    119.308675\n",
       "50%    12500.500000     67.995700    127.157750\n",
       "75%    18750.250000     69.272958    134.892850\n",
       "max    25000.000000     75.152800    170.924000"
      ]
     },
     "execution_count": 1,
     "metadata": {},
     "output_type": "execute_result"
    }
   ],
   "source": [
    "import pandas as pd\n",
    "file= pd.read_csv('HW Test.csv')\n",
    "file.describe()"
   ]
  },
  {
   "cell_type": "code",
   "execution_count": 2,
   "id": "9d20aabb",
   "metadata": {},
   "outputs": [
    {
     "data": {
      "text/plain": [
       "(66.7043975, 69.2729575, 119.308675, 134.89285)"
      ]
     },
     "execution_count": 2,
     "metadata": {},
     "output_type": "execute_result"
    }
   ],
   "source": [
    "#Calculate quartiles\n",
    "hq1= file.Height.quantile(.25)\n",
    "hq3= file.Height.quantile(.75)\n",
    "wq1= file.Weight.quantile(.25)\n",
    "wq3= file.Weight.quantile(.75)\n",
    "\n",
    "hq1, hq3, wq1, wq3\n"
   ]
  },
  {
   "cell_type": "code",
   "execution_count": 3,
   "id": "3b8d1c2c",
   "metadata": {},
   "outputs": [
    {
     "data": {
      "text/plain": [
       "(2.568560000000005, 15.584175000000016)"
      ]
     },
     "execution_count": 3,
     "metadata": {},
     "output_type": "execute_result"
    }
   ],
   "source": [
    "#Calculate iqr \n",
    "hiqr= hq3-hq1\n",
    "wiqr= wq3-wq1\n",
    "hiqr, wiqr\n"
   ]
  },
  {
   "cell_type": "code",
   "execution_count": 5,
   "id": "f1027d93",
   "metadata": {},
   "outputs": [
    {
     "data": {
      "text/plain": [
       "(62.85155749999999, 73.1257975, 43.328134999999975, 92.64922000000003)"
      ]
     },
     "execution_count": 5,
     "metadata": {},
     "output_type": "execute_result"
    }
   ],
   "source": [
    "#Limits\n",
    "hlower= hq1-1.5*hiqr\n",
    "hupper= hq3+1.5*hiqr\n",
    "wlower= hq1-1.5*wiqr\n",
    "wupper= hq3+1.5*wiqr\n",
    "hlower, hupper, wlower, wupper"
   ]
  },
  {
   "cell_type": "code",
   "execution_count": 8,
   "id": "0dcd2b03",
   "metadata": {},
   "outputs": [
    {
     "data": {
      "text/html": [
       "<div>\n",
       "<style scoped>\n",
       "    .dataframe tbody tr th:only-of-type {\n",
       "        vertical-align: middle;\n",
       "    }\n",
       "\n",
       "    .dataframe tbody tr th {\n",
       "        vertical-align: top;\n",
       "    }\n",
       "\n",
       "    .dataframe thead th {\n",
       "        text-align: right;\n",
       "    }\n",
       "</style>\n",
       "<table border=\"1\" class=\"dataframe\">\n",
       "  <thead>\n",
       "    <tr style=\"text-align: right;\">\n",
       "      <th></th>\n",
       "      <th>Index</th>\n",
       "      <th>Height</th>\n",
       "      <th>Weight</th>\n",
       "    </tr>\n",
       "  </thead>\n",
       "  <tbody>\n",
       "    <tr>\n",
       "      <th>0</th>\n",
       "      <td>1</td>\n",
       "      <td>65.78331</td>\n",
       "      <td>112.9925</td>\n",
       "    </tr>\n",
       "    <tr>\n",
       "      <th>1</th>\n",
       "      <td>2</td>\n",
       "      <td>71.51521</td>\n",
       "      <td>136.4873</td>\n",
       "    </tr>\n",
       "    <tr>\n",
       "      <th>2</th>\n",
       "      <td>3</td>\n",
       "      <td>69.39874</td>\n",
       "      <td>153.0269</td>\n",
       "    </tr>\n",
       "    <tr>\n",
       "      <th>3</th>\n",
       "      <td>4</td>\n",
       "      <td>68.21660</td>\n",
       "      <td>142.3354</td>\n",
       "    </tr>\n",
       "    <tr>\n",
       "      <th>4</th>\n",
       "      <td>5</td>\n",
       "      <td>67.78781</td>\n",
       "      <td>144.2971</td>\n",
       "    </tr>\n",
       "    <tr>\n",
       "      <th>...</th>\n",
       "      <td>...</td>\n",
       "      <td>...</td>\n",
       "      <td>...</td>\n",
       "    </tr>\n",
       "    <tr>\n",
       "      <th>24995</th>\n",
       "      <td>24996</td>\n",
       "      <td>69.50215</td>\n",
       "      <td>118.0312</td>\n",
       "    </tr>\n",
       "    <tr>\n",
       "      <th>24996</th>\n",
       "      <td>24997</td>\n",
       "      <td>64.54826</td>\n",
       "      <td>120.1932</td>\n",
       "    </tr>\n",
       "    <tr>\n",
       "      <th>24997</th>\n",
       "      <td>24998</td>\n",
       "      <td>64.69855</td>\n",
       "      <td>118.2655</td>\n",
       "    </tr>\n",
       "    <tr>\n",
       "      <th>24998</th>\n",
       "      <td>24999</td>\n",
       "      <td>67.52918</td>\n",
       "      <td>132.2682</td>\n",
       "    </tr>\n",
       "    <tr>\n",
       "      <th>24999</th>\n",
       "      <td>25000</td>\n",
       "      <td>68.87761</td>\n",
       "      <td>124.8742</td>\n",
       "    </tr>\n",
       "  </tbody>\n",
       "</table>\n",
       "<p>24954 rows × 3 columns</p>\n",
       "</div>"
      ],
      "text/plain": [
       "       Index    Height    Weight\n",
       "0          1  65.78331  112.9925\n",
       "1          2  71.51521  136.4873\n",
       "2          3  69.39874  153.0269\n",
       "3          4  68.21660  142.3354\n",
       "4          5  67.78781  144.2971\n",
       "...      ...       ...       ...\n",
       "24995  24996  69.50215  118.0312\n",
       "24996  24997  64.54826  120.1932\n",
       "24997  24998  64.69855  118.2655\n",
       "24998  24999  67.52918  132.2682\n",
       "24999  25000  68.87761  124.8742\n",
       "\n",
       "[24954 rows x 3 columns]"
      ]
     },
     "execution_count": 8,
     "metadata": {},
     "output_type": "execute_result"
    }
   ],
   "source": [
    "#Finding outliers\n",
    "file[(file.Height<hlower) | (file.Height>hupper)]\n",
    "file[(file.Weight<wlower) | (file.Weight>wupper)]\n"
   ]
  },
  {
   "cell_type": "code",
   "execution_count": 15,
   "id": "392a94df",
   "metadata": {},
   "outputs": [
    {
     "data": {
      "text/plain": [
       "(       Index    Height    Weight\n",
       " 0          1  65.78331  112.9925\n",
       " 1          2  71.51521  136.4873\n",
       " 2          3  69.39874  153.0269\n",
       " 3          4  68.21660  142.3354\n",
       " 4          5  67.78781  144.2971\n",
       " ...      ...       ...       ...\n",
       " 24995  24996  69.50215  118.0312\n",
       " 24996  24997  64.54826  120.1932\n",
       " 24997  24998  64.69855  118.2655\n",
       " 24998  24999  67.52918  132.2682\n",
       " 24999  25000  68.87761  124.8742\n",
       " \n",
       " [24833 rows x 3 columns],\n",
       "        Index    Height    Weight\n",
       " 249      250  65.93895  84.35980\n",
       " 727      728  63.12550  83.08527\n",
       " 1432    1433  64.87469  90.29334\n",
       " 2009    2010  64.01976  90.91793\n",
       " 2485    2486  63.19370  90.67840\n",
       " 2651    2652  60.61265  88.04646\n",
       " 3515    3516  63.96935  84.86345\n",
       " 3597    3598  63.32113  92.37513\n",
       " 5366    5367  66.64317  86.98200\n",
       " 5705    5706  62.87732  86.66900\n",
       " 5841    5842  62.34907  92.08858\n",
       " 6256    6257  67.66363  91.26068\n",
       " 6347    6348  64.51185  86.49925\n",
       " 6438    6439  64.76520  92.20107\n",
       " 7320    7321  65.36397  88.81051\n",
       " 7417    7418  64.55084  90.03145\n",
       " 8124    8125  64.84131  91.80850\n",
       " 8150    8151  65.97774  91.25752\n",
       " 8317    8318  65.00921  84.26295\n",
       " 8414    8415  66.49187  90.16983\n",
       " 10240  10241  61.93152  85.29040\n",
       " 10477  10478  64.77966  89.64885\n",
       " 11451  11452  67.48496  91.91782\n",
       " 11485  11486  68.48521  90.53995\n",
       " 12446  12447  64.74007  87.37910\n",
       " 12699  12700  66.95170  91.22631\n",
       " 12724  12725  62.70318  92.59193\n",
       " 12731  12732  62.39800  89.19710\n",
       " 13706  13707  67.88128  91.79628\n",
       " 14106  14107  61.90725  78.56785\n",
       " 14398  14399  65.39821  90.24255\n",
       " 15005  15006  65.47213  83.33859\n",
       " 15110  15111  64.43238  92.31443\n",
       " 16552  16553  65.52770  90.67684\n",
       " 17265  17266  62.95082  89.82395\n",
       " 17598  17599  66.52168  90.28757\n",
       " 19203  19204  63.86542  88.16618\n",
       " 19472  19473  62.50167  91.57279\n",
       " 19854  19855  64.74935  89.95606\n",
       " 20391  20392  65.63699  92.23364\n",
       " 21101  21102  65.84174  85.98927\n",
       " 22282  22283  64.14250  91.37972\n",
       " 22283  22284  64.02389  92.55327\n",
       " 22738  22739  62.87593  87.80417\n",
       " 22945  22946  61.92639  78.01476\n",
       " 24610  24611  66.56804  82.38298)"
      ]
     },
     "execution_count": 15,
     "metadata": {},
     "output_type": "execute_result"
    }
   ],
   "source": [
    "#removing outliers\n",
    "no_outliers= file[(file.Height>hlower) & (file.Height<hupper)], file[(file.Weight>wlower) & (file.Weight<wupper)]\n",
    "no_outliers"
   ]
  }
 ],
 "metadata": {
  "kernelspec": {
   "display_name": "Python 3 (ipykernel)",
   "language": "python",
   "name": "python3"
  },
  "language_info": {
   "codemirror_mode": {
    "name": "ipython",
    "version": 3
   },
   "file_extension": ".py",
   "mimetype": "text/x-python",
   "name": "python",
   "nbconvert_exporter": "python",
   "pygments_lexer": "ipython3",
   "version": "3.11.4"
  }
 },
 "nbformat": 4,
 "nbformat_minor": 5
}
